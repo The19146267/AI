{
  "nbformat": 4,
  "nbformat_minor": 0,
  "metadata": {
    "colab": {
      "name": "CIFAR100_ANN.ipynb",
      "provenance": [],
      "collapsed_sections": []
    },
    "kernelspec": {
      "name": "python3",
      "display_name": "Python 3"
    },
    "language_info": {
      "name": "python"
    },
    "accelerator": "GPU"
  },
  "cells": [
    {
      "cell_type": "code",
      "execution_count": null,
      "metadata": {
        "id": "D5lGLteMmt4s"
      },
      "outputs": [],
      "source": [
        "#KHAI BAO\n",
        "import numpy as np\n",
        "import pandas as pd\n",
        "import cv2\n",
        "from keras.models import Sequential\n",
        "from tensorflow.keras import datasets, layers,models\n",
        "import matplotlib.pyplot as plt\n",
        "from tensorflow import keras\n",
        "from keras.layers import Dense, Activation,Dropout,Flatten\n",
        "from keras.datasets import cifar100\n",
        "from tensorflow.keras.optimizers import Adam\n",
        "from sklearn.preprocessing import StandardScaler\n",
        "from keras.utils import np_utils\n",
        "import tensorflow as tf "
      ]
    },
    {
      "cell_type": "code",
      "source": [
        "(x_train, y_train), (x_test, y_test) = cifar100.load_data()\n",
        "x_pre = x_test\n",
        "y_ktr = y_test\n",
        "x_train = x_train.reshape(x_train.shape[0], -1)\n",
        "x_test = x_test.reshape(x_test.shape[0], -1)\n",
        "x_train = x_train.astype('float32')\n",
        "x_test = x_test.astype('float32')\n",
        "# ĐƯA GIÁ TRỊ VỀ TỪ 0-1\n",
        "x_train /= 255\n",
        "x_test /= 255\n",
        "y_train = np_utils.to_categorical(y_train, 100)\n",
        "y_test = np_utils.to_categorical(y_test, 100)"
      ],
      "metadata": {
        "id": "cT4jBmIAm2zt"
      },
      "execution_count": null,
      "outputs": []
    },
    {
      "cell_type": "code",
      "source": [
        "model = Sequential()\n",
        "model.add(Dense(512, activation='relu',\n",
        "input_shape = (x_train.shape[1],)))\n",
        "model.add(Dropout(0.1))\n",
        "model.add(Dense(256,activation='relu'))\n",
        "model.add(Dropout(0.1))\n",
        "model.add(Dense(256,activation='relu'))\n",
        "model.add(Dropout(0.1))\n",
        "model.add(Dense(100,activation='softmax'))\n",
        "model.summary()\n",
        "model.compile(loss='mean_squared_error',optimizer =Adam(), metrics=['acc'])\n",
        "history = model.fit(x_train, y_train, batch_size =256, epochs = 30, validation_split = 0.2)\n",
        "model.save('final_model.h5')"
      ],
      "metadata": {
        "colab": {
          "base_uri": "https://localhost:8080/"
        },
        "id": "xo37yLRCnAwn",
        "outputId": "7b26985b-f488-40e3-c3eb-4a152e899524"
      },
      "execution_count": null,
      "outputs": [
        {
          "output_type": "stream",
          "name": "stdout",
          "text": [
            "Model: \"sequential_1\"\n",
            "_________________________________________________________________\n",
            " Layer (type)                Output Shape              Param #   \n",
            "=================================================================\n",
            " dense_4 (Dense)             (None, 512)               1573376   \n",
            "                                                                 \n",
            " dropout_3 (Dropout)         (None, 512)               0         \n",
            "                                                                 \n",
            " dense_5 (Dense)             (None, 256)               131328    \n",
            "                                                                 \n",
            " dropout_4 (Dropout)         (None, 256)               0         \n",
            "                                                                 \n",
            " dense_6 (Dense)             (None, 256)               65792     \n",
            "                                                                 \n",
            " dropout_5 (Dropout)         (None, 256)               0         \n",
            "                                                                 \n",
            " dense_7 (Dense)             (None, 100)               25700     \n",
            "                                                                 \n",
            "=================================================================\n",
            "Total params: 1,796,196\n",
            "Trainable params: 1,796,196\n",
            "Non-trainable params: 0\n",
            "_________________________________________________________________\n",
            "Epoch 1/30\n",
            "157/157 [==============================] - 2s 10ms/step - loss: 0.0098 - acc: 0.0366 - val_loss: 0.0098 - val_acc: 0.0690\n",
            "Epoch 2/30\n",
            "157/157 [==============================] - 2s 10ms/step - loss: 0.0097 - acc: 0.0654 - val_loss: 0.0097 - val_acc: 0.0831\n",
            "Epoch 3/30\n",
            "157/157 [==============================] - 1s 9ms/step - loss: 0.0096 - acc: 0.0840 - val_loss: 0.0095 - val_acc: 0.1025\n",
            "Epoch 4/30\n",
            "157/157 [==============================] - 1s 9ms/step - loss: 0.0096 - acc: 0.0981 - val_loss: 0.0095 - val_acc: 0.1151\n",
            "Epoch 5/30\n",
            "157/157 [==============================] - 2s 10ms/step - loss: 0.0095 - acc: 0.1125 - val_loss: 0.0095 - val_acc: 0.1176\n",
            "Epoch 6/30\n",
            "157/157 [==============================] - 2s 10ms/step - loss: 0.0095 - acc: 0.1224 - val_loss: 0.0094 - val_acc: 0.1402\n",
            "Epoch 7/30\n",
            "157/157 [==============================] - 2s 10ms/step - loss: 0.0094 - acc: 0.1310 - val_loss: 0.0094 - val_acc: 0.1415\n",
            "Epoch 8/30\n",
            "157/157 [==============================] - 1s 9ms/step - loss: 0.0094 - acc: 0.1389 - val_loss: 0.0093 - val_acc: 0.1564\n",
            "Epoch 9/30\n",
            "157/157 [==============================] - 2s 10ms/step - loss: 0.0093 - acc: 0.1508 - val_loss: 0.0093 - val_acc: 0.1516\n",
            "Epoch 10/30\n",
            "157/157 [==============================] - 2s 13ms/step - loss: 0.0093 - acc: 0.1530 - val_loss: 0.0093 - val_acc: 0.1575\n",
            "Epoch 11/30\n",
            "157/157 [==============================] - 2s 14ms/step - loss: 0.0092 - acc: 0.1616 - val_loss: 0.0093 - val_acc: 0.1576\n",
            "Epoch 12/30\n",
            "157/157 [==============================] - 2s 15ms/step - loss: 0.0092 - acc: 0.1649 - val_loss: 0.0092 - val_acc: 0.1651\n",
            "Epoch 13/30\n",
            "157/157 [==============================] - 2s 13ms/step - loss: 0.0092 - acc: 0.1691 - val_loss: 0.0092 - val_acc: 0.1742\n",
            "Epoch 14/30\n",
            "157/157 [==============================] - 2s 12ms/step - loss: 0.0092 - acc: 0.1754 - val_loss: 0.0091 - val_acc: 0.1728\n",
            "Epoch 15/30\n",
            "157/157 [==============================] - 2s 13ms/step - loss: 0.0091 - acc: 0.1772 - val_loss: 0.0091 - val_acc: 0.1770\n",
            "Epoch 16/30\n",
            "157/157 [==============================] - 2s 14ms/step - loss: 0.0091 - acc: 0.1870 - val_loss: 0.0091 - val_acc: 0.1805\n",
            "Epoch 17/30\n",
            "157/157 [==============================] - 2s 9ms/step - loss: 0.0091 - acc: 0.1892 - val_loss: 0.0091 - val_acc: 0.1825\n",
            "Epoch 18/30\n",
            "157/157 [==============================] - 2s 15ms/step - loss: 0.0090 - acc: 0.1918 - val_loss: 0.0091 - val_acc: 0.1879\n",
            "Epoch 19/30\n",
            "157/157 [==============================] - 2s 11ms/step - loss: 0.0090 - acc: 0.1957 - val_loss: 0.0091 - val_acc: 0.1804\n",
            "Epoch 20/30\n",
            "157/157 [==============================] - 2s 13ms/step - loss: 0.0089 - acc: 0.2027 - val_loss: 0.0090 - val_acc: 0.1919\n",
            "Epoch 21/30\n",
            "157/157 [==============================] - 1s 9ms/step - loss: 0.0090 - acc: 0.2020 - val_loss: 0.0091 - val_acc: 0.1877\n",
            "Epoch 22/30\n",
            "157/157 [==============================] - 1s 9ms/step - loss: 0.0089 - acc: 0.2082 - val_loss: 0.0090 - val_acc: 0.1934\n",
            "Epoch 23/30\n",
            "157/157 [==============================] - 1s 9ms/step - loss: 0.0089 - acc: 0.2109 - val_loss: 0.0091 - val_acc: 0.1907\n",
            "Epoch 24/30\n",
            "157/157 [==============================] - 1s 9ms/step - loss: 0.0089 - acc: 0.2116 - val_loss: 0.0090 - val_acc: 0.1979\n",
            "Epoch 25/30\n",
            "157/157 [==============================] - 1s 9ms/step - loss: 0.0089 - acc: 0.2153 - val_loss: 0.0090 - val_acc: 0.1992\n",
            "Epoch 26/30\n",
            "157/157 [==============================] - 2s 10ms/step - loss: 0.0088 - acc: 0.2196 - val_loss: 0.0090 - val_acc: 0.1975\n",
            "Epoch 27/30\n",
            "157/157 [==============================] - 2s 10ms/step - loss: 0.0088 - acc: 0.2213 - val_loss: 0.0090 - val_acc: 0.1991\n",
            "Epoch 28/30\n",
            "157/157 [==============================] - 1s 9ms/step - loss: 0.0088 - acc: 0.2247 - val_loss: 0.0090 - val_acc: 0.2031\n",
            "Epoch 29/30\n",
            "157/157 [==============================] - 1s 9ms/step - loss: 0.0087 - acc: 0.2300 - val_loss: 0.0089 - val_acc: 0.2056\n",
            "Epoch 30/30\n",
            "157/157 [==============================] - 1s 9ms/step - loss: 0.0087 - acc: 0.2300 - val_loss: 0.0089 - val_acc: 0.2073\n"
          ]
        }
      ]
    },
    {
      "cell_type": "code",
      "source": [
        "plt.subplot(211)\n",
        "plt.title('val_loss')\n",
        "plt.plot(history.history['val_loss'], color='blue',\n",
        "label='train')"
      ],
      "metadata": {
        "colab": {
          "base_uri": "https://localhost:8080/",
          "height": 180
        },
        "id": "U0MULIGxnB8f",
        "outputId": "ea0647f2-a66d-4efd-ae77-7d200eca6326"
      },
      "execution_count": null,
      "outputs": [
        {
          "output_type": "execute_result",
          "data": {
            "text/plain": [
              "[<matplotlib.lines.Line2D at 0x7f1938b738d0>]"
            ]
          },
          "metadata": {},
          "execution_count": 7
        },
        {
          "output_type": "display_data",
          "data": {
            "text/plain": [
              "<Figure size 432x288 with 1 Axes>"
            ],
            "image/png": "[encoded data removed]"
          },
          "metadata": {
            "needs_background": "light"
          }
        }
      ]
    },
    {
      "cell_type": "code",
      "source": [
        "#VE DO THI VAL-ACC\n",
        "plt.subplot(212)\n",
        "plt.title('Val Accuracy')\n",
        "plt.plot(history.history['val_acc'], color='blue',\n",
        "label='train')\n",
        "test =23\n",
        "Label = ['apple', 'aquarium_fish', 'baby', 'bear','beaver', 'bed', 'bee', 'beetle', 'bicycle', 'bottle','bowl', 'boy', \n",
        "'bridge', 'bus', 'butterfly', 'camel','can', 'castle', 'caterpillar', 'cattle', 'chair','chimpanzee', 'clock', \n",
        "'cloud', 'cockroach', 'couch','crab', 'crocodile', 'cup', 'dinosaur', 'dolphin','elephant', 'flatfish', 'forest', 'fox', 'girl', 'hamster',\n",
        "'house', 'kangaroo', 'keyboard', 'lamp','lawn_mower', 'leopard', 'lion', 'lizard', 'lobster',\n",
        "'man', 'maple_tree', 'motorcycle', 'mountain','mouse', 'mushroom', 'oak_tree', 'orange', 'orchid',\n",
        "'otter', 'palm_tree', 'pear', 'pickup_truck','pine_tree', 'plain', 'plate', 'poppy', 'porcupine',\n",
        "'possum', 'rabbit', 'raccoon', 'ray', 'road', 'rocket','rose', 'sea', 'seal', 'shark', 'shrew', 'skunk',\n",
        "'skyscraper', 'snail', 'snake', 'spider', 'squirrel','streetcar', 'sunflower', 'sweet_pepper', 'table',\n",
        "'tank', 'telephone', 'television', 'tiger', 'tractor','train', 'trout', 'tulip', 'turtle', 'wardrobe', 'whale',\n",
        "'willow_tree', 'wolf', 'woman', 'worm']\n",
        "plt.title(\" Dự đoán là: \" +\n",
        "str(Label[np.argmax(model.predict(x_pre[test].reshape(-1,3072)))]))\n",
        "plt.imshow(x_pre[test],cmap=plt.get_cmap('gray'))"
      ],
      "metadata": {
        "colab": {
          "base_uri": "https://localhost:8080/",
          "height": 180
        },
        "id": "T7S20nGanM3r",
        "outputId": "9dc78aa6-0f8f-4c63-dbd1-ae1e6fd365f2"
      },
      "execution_count": null,
      "outputs": [
        {
          "output_type": "execute_result",
          "data": {
            "text/plain": [
              "<matplotlib.image.AxesImage at 0x7f19387d5190>"
            ]
          },
          "metadata": {},
          "execution_count": 10
        },
        {
          "output_type": "display_data",
          "data": {
            "text/plain": [
              "<Figure size 432x288 with 1 Axes>"
            ],
            "image/png": "[encoded data removed]"
          },
          "metadata": {
            "needs_background": "light"
          }
        }
      ]
    },
    {
      "cell_type": "code",
      "source": [
        "from google.colab import drive\n",
        "drive.mount('/content/drive')\n",
        "!wget -nc https://raw.githubusercontent.com/brpy/colab-pdf/master/colab_pdf.py\n",
        "from colab_pdf import colab_pdf\n",
        "colab_pdf('CIFAR100_ANN.ipynb')"
      ],
      "metadata": {
        "colab": {
          "base_uri": "https://localhost:8080/",
          "height": 576
        },
        "id": "_2xbMVp_nO7x",
        "outputId": "292fa01e-63fa-4a57-9396-38c79c8a7583"
      },
      "execution_count": null,
      "outputs": [
        {
          "output_type": "stream",
          "name": "stdout",
          "text": [
            "Mounted at /content/drive\n",
            "--2022-05-19 09:21:11--  https://raw.githubusercontent.com/brpy/colab-pdf/master/colab_pdf.py\n",
            "Resolving raw.githubusercontent.com (raw.githubusercontent.com)... 185.199.108.133, 185.199.110.133, 185.199.111.133, ...\n",
            "Connecting to raw.githubusercontent.com (raw.githubusercontent.com)|185.199.108.133|:443... connected.\n",
            "HTTP request sent, awaiting response... 200 OK\n",
            "Length: 1864 (1.8K) [text/plain]\n",
            "Saving to: ‘colab_pdf.py’\n",
            "\n",
            "\rcolab_pdf.py          0%[                    ]       0  --.-KB/s               \rcolab_pdf.py        100%[===================>]   1.82K  --.-KB/s    in 0s      \n",
            "\n",
            "2022-05-19 09:21:11 (11.0 MB/s) - ‘colab_pdf.py’ saved [1864/1864]\n",
            "\n",
            "\n",
            "WARNING: apt does not have a stable CLI interface. Use with caution in scripts.\n",
            "\n",
            "\n",
            "WARNING: apt does not have a stable CLI interface. Use with caution in scripts.\n",
            "\n",
            "Extracting templates from packages: 100%\n",
            "[NbConvertApp] Converting notebook /content/drive/MyDrive/Colab Notebooks/CIFAR100_ANN.ipynb to pdf\n",
            "[NbConvertApp] Support files will be in CIFAR100_ANN_files/\n",
            "[NbConvertApp] Making directory ./CIFAR100_ANN_files\n",
            "[NbConvertApp] Making directory ./CIFAR100_ANN_files\n",
            "[NbConvertApp] Writing 43447 bytes to ./notebook.tex\n",
            "[NbConvertApp] Building PDF\n",
            "[NbConvertApp] Running xelatex 3 times: ['xelatex', './notebook.tex', '-quiet']\n",
            "[NbConvertApp] Running bibtex 1 time: ['bibtex', './notebook']\n",
            "[NbConvertApp] WARNING | bibtex had problems, most likely because there were no citations\n",
            "[NbConvertApp] PDF successfully created\n",
            "[NbConvertApp] Writing 49672 bytes to /content/drive/My Drive/CIFAR100_ANN.pdf\n"
          ]
        },
        {
          "output_type": "display_data",
          "data": {
            "text/plain": [
              "<IPython.core.display.Javascript object>"
            ],
            "application/javascript": [
              "\n",
              "    async function download(id, filename, size) {\n",
              "      if (!google.colab.kernel.accessAllowed) {\n",
              "        return;\n",
              "      }\n",
              "      const div = document.createElement('div');\n",
              "      const label = document.createElement('label');\n",
              "      label.textContent = `Downloading \"${filename}\": `;\n",
              "      div.appendChild(label);\n",
              "      const progress = document.createElement('progress');\n",
              "      progress.max = size;\n",
              "      div.appendChild(progress);\n",
              "      document.body.appendChild(div);\n",
              "\n",
              "      const buffers = [];\n",
              "      let downloaded = 0;\n",
              "\n",
              "      const channel = await google.colab.kernel.comms.open(id);\n",
              "      // Send a message to notify the kernel that we're ready.\n",
              "      channel.send({})\n",
              "\n",
              "      for await (const message of channel.messages) {\n",
              "        // Send a message to notify the kernel that we're ready.\n",
              "        channel.send({})\n",
              "        if (message.buffers) {\n",
              "          for (const buffer of message.buffers) {\n",
              "            buffers.push(buffer);\n",
              "            downloaded += buffer.byteLength;\n",
              "            progress.value = downloaded;\n",
              "          }\n",
              "        }\n",
              "      }\n",
              "      const blob = new Blob(buffers, {type: 'application/binary'});\n",
              "      const a = document.createElement('a');\n",
              "      a.href = window.URL.createObjectURL(blob);\n",
              "      a.download = filename;\n",
              "      div.appendChild(a);\n",
              "      a.click();\n",
              "      div.remove();\n",
              "    }\n",
              "  "
            ]
          },
          "metadata": {}
        },
        {
          "output_type": "display_data",
          "data": {
            "text/plain": [
              "<IPython.core.display.Javascript object>"
            ],
            "application/javascript": [
              "download(\"download_492c4370-fee1-4796-9a89-e4ff1d823572\", \"CIFAR100_ANN.pdf\", 49672)"
            ]
          },
          "metadata": {}
        },
        {
          "output_type": "execute_result",
          "data": {
            "text/plain": [
              "'File ready to be Downloaded and Saved to Drive'"
            ],
            "application/vnd.google.colaboratory.intrinsic+json": {
              "type": "string"
            }
          },
          "metadata": {},
          "execution_count": 11
        }
      ]
    }
  ]
}